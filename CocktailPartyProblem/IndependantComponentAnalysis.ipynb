{
  "nbformat": 4,
  "nbformat_minor": 0,
  "metadata": {
    "colab": {
      "name": "Untitled1.ipynb",
      "provenance": [],
      "collapsed_sections": []
    },
    "kernelspec": {
      "name": "python3",
      "display_name": "Python 3"
    }
  },
  "cells": [
    {
      "cell_type": "markdown",
      "metadata": {
        "id": "R62izzdL7Ewc",
        "colab_type": "text"
      },
      "source": [
        "For the task, we will require :\n",
        "\n",
        "\n",
        "*   matplotlib.pyplot to plot the audio signals\n",
        "*   numpy for basic operations\n",
        "*   scipy.io.wavfile to read .wav file as a numpy array\n",
        "*   scipy.linalg for performing"
      ]
    },
    {
      "cell_type": "code",
      "metadata": {
        "id": "cTbukhYiAoXO",
        "colab_type": "code",
        "colab": {}
      },
      "source": [
        "# Import packages.\n",
        "import matplotlib.pyplot as plt\n",
        "import numpy as np\n",
        "from scipy.io import wavfile\n",
        "from scipy import linalg as LA"
      ],
      "execution_count": 0,
      "outputs": []
    },
    {
      "cell_type": "markdown",
      "metadata": {
        "id": "9S81ollGCAJ_",
        "colab_type": "text"
      },
      "source": [
        "Now, let's define the following terms:  \n",
        "1. Sampling Rate - Number of samples of audio present in one second.\n",
        "2. uint8 - Unsigned Integers of 8 bits (0-255)"
      ]
    },
    {
      "cell_type": "code",
      "metadata": {
        "id": "6PzTrYhyAtsw",
        "colab_type": "code",
        "colab": {
          "base_uri": "https://localhost:8080/",
          "height": 51
        },
        "outputId": "83f24c0e-2288-4e01-9bf2-7fae26ac041e"
      },
      "source": [
        "Sampling_rate, mixSignal1 = wavfile.read('mix1.wav')\n",
        "print(\"Sampling rate = \", Sampling_rate)\n",
        "print(\"Data type is \", mixSignal1.dtype)"
      ],
      "execution_count": 31,
      "outputs": [
        {
          "output_type": "stream",
          "text": [
            "Sampling rate =  8000\n",
            "Data type is  uint8\n"
          ],
          "name": "stdout"
        }
      ]
    },
    {
      "cell_type": "markdown",
      "metadata": {
        "id": "ab6pB8jGCtJd",
        "colab_type": "text"
      },
      "source": [
        "Now, we Scale the audio data such that the amplitude lies betwen 0 and 1:"
      ]
    },
    {
      "cell_type": "code",
      "metadata": {
        "id": "A41F_y8YC3Ay",
        "colab_type": "code",
        "colab": {
          "base_uri": "https://localhost:8080/",
          "height": 51
        },
        "outputId": "cd942d8f-f6cf-4437-ecc0-a3718c8a3f95"
      },
      "source": [
        "print(np.min(mixSignal1))\n",
        "print(np.max(mixSignal1))\n",
        "mixSignal1 = (mixSignal1-1.0)/(254.0-1.0)"
      ],
      "execution_count": 32,
      "outputs": [
        {
          "output_type": "stream",
          "text": [
            "1\n",
            "254\n"
          ],
          "name": "stdout"
        }
      ]
    },
    {
      "cell_type": "code",
      "metadata": {
        "id": "NzUgkOBYDiED",
        "colab_type": "code",
        "colab": {
          "base_uri": "https://localhost:8080/",
          "height": 34
        },
        "outputId": "4034dae9-c25b-45fa-a375-8b3eb621a8cf"
      },
      "source": [
        "print(mixSignal1.shape)"
      ],
      "execution_count": 33,
      "outputs": [
        {
          "output_type": "stream",
          "text": [
            "(50000,)\n"
          ],
          "name": "stdout"
        }
      ]
    },
    {
      "cell_type": "code",
      "metadata": {
        "id": "PrhnfjCYDuuE",
        "colab_type": "code",
        "colab": {
          "base_uri": "https://localhost:8080/",
          "height": 34
        },
        "outputId": "d0184190-f2b6-4e8b-ed82-ecad1a9685c1"
      },
      "source": [
        "N = mixSignal1.shape[0]+0.0\n",
        "print(\"Number of samples: \", N)"
      ],
      "execution_count": 34,
      "outputs": [
        {
          "output_type": "stream",
          "text": [
            "Number of samples:  50000.0\n"
          ],
          "name": "stdout"
        }
      ]
    },
    {
      "cell_type": "markdown",
      "metadata": {
        "id": "LADK7nE2ENJt",
        "colab_type": "text"
      },
      "source": [
        "Now, Doing the same for signal 2:"
      ]
    },
    {
      "cell_type": "code",
      "metadata": {
        "id": "E4skfBTaES2D",
        "colab_type": "code",
        "colab": {
          "base_uri": "https://localhost:8080/",
          "height": 85
        },
        "outputId": "4ef0a63e-2f63-4946-c0c9-bd513ee2c55f"
      },
      "source": [
        "Sampling_rate, mixSignal2 = wavfile.read('mix2.wav')\n",
        "print(\"Sampling rate = \", Sampling_rate)\n",
        "print(\"Data type is \", mixSignal1.dtype)\n",
        "print(np.min(mixSignal2))\n",
        "print(np.max(mixSignal2))\n",
        "mixSignal2 = (mixSignal2-9.0)/(242.0-9.0)"
      ],
      "execution_count": 35,
      "outputs": [
        {
          "output_type": "stream",
          "text": [
            "Sampling rate =  8000\n",
            "Data type is  float64\n",
            "9\n",
            "242\n"
          ],
          "name": "stdout"
        }
      ]
    },
    {
      "cell_type": "code",
      "metadata": {
        "id": "8gy7hZpJEmHX",
        "colab_type": "code",
        "colab": {}
      },
      "source": [
        "Data = [mixSignal1,mixSignal2]"
      ],
      "execution_count": 0,
      "outputs": []
    },
    {
      "cell_type": "markdown",
      "metadata": {
        "id": "7tWgrSzPdO4i",
        "colab_type": "text"
      },
      "source": [
        "Plotting The Mixed Signals"
      ]
    },
    {
      "cell_type": "code",
      "metadata": {
        "id": "LtoCsjcycvbM",
        "colab_type": "code",
        "colab": {
          "base_uri": "https://localhost:8080/",
          "height": 312
        },
        "outputId": "3a4af363-d7b6-41e9-b787-b25daa505352"
      },
      "source": [
        "plt.figure()\n",
        "plt.plot(Data[0],Data[1],'.b')\n",
        "plt.ylabel('Mixed Signal 2')\n",
        "plt.xlabel('Mixed Signal 1')\n",
        "plt.title(\"Original data\")"
      ],
      "execution_count": 37,
      "outputs": [
        {
          "output_type": "execute_result",
          "data": {
            "text/plain": [
              "Text(0.5, 1.0, 'Original data')"
            ]
          },
          "metadata": {
            "tags": []
          },
          "execution_count": 37
        },
        {
          "output_type": "display_data",
          "data": {
            "image/png": "[encoded data removed]",
            "text/plain": [
              "<Figure size 432x288 with 1 Axes>"
            ]
          },
          "metadata": {
            "tags": []
          }
        }
      ]
    },
    {
      "cell_type": "code",
      "metadata": {
        "id": "gV2WmU5Zdt1o",
        "colab_type": "code",
        "colab": {}
      },
      "source": [
        "# Calculate the covariance matrix of the initial data.\n",
        "Covariance = np.cov(Data)\n",
        "# Calculate eigenvalues and eigenvectors of the covariance matrix.\n",
        "Eval, Evect = LA.eigh(Covariance)\n",
        "# Generate a diagonal matrix with the eigenvalues as diagonal elements.\n",
        "EMat = np.diag(Eval)\n",
        "\n",
        "P = LA.sqrtm(LA.inv(EMat))\n",
        "# Perform whitening. whitMat is the whitened matrix.\n",
        "whitMat = np.dot(P, np.dot(np.transpose(Evect), Data))"
      ],
      "execution_count": 0,
      "outputs": []
    },
    {
      "cell_type": "markdown",
      "metadata": {
        "id": "jImMKqBuf_Kw",
        "colab_type": "text"
      },
      "source": [
        "Now we will plot the Whitened Data to show the new structure of the data:"
      ]
    },
    {
      "cell_type": "code",
      "metadata": {
        "id": "wIxDEaZNfPNd",
        "colab_type": "code",
        "colab": {
          "base_uri": "https://localhost:8080/",
          "height": 346
        },
        "outputId": "2e707d84-72ab-41f8-86ee-4ff5b8bef83a"
      },
      "source": [
        "plt.figure()\n",
        "plt.plot(whitMat[0], whitMat[1], '.b')\n",
        "plt.ylabel('Mixed Signal 2')\n",
        "plt.xlabel('Mixed Signal 1')\n",
        "plt.title(\"Whitened data\")"
      ],
      "execution_count": 39,
      "outputs": [
        {
          "output_type": "stream",
          "text": [
            "/usr/local/lib/python3.6/dist-packages/numpy/core/_asarray.py:85: ComplexWarning: Casting complex values to real discards the imaginary part\n",
            "  return array(a, dtype, copy=False, order=order)\n"
          ],
          "name": "stderr"
        },
        {
          "output_type": "execute_result",
          "data": {
            "text/plain": [
              "Text(0.5, 1.0, 'Whitened data')"
            ]
          },
          "metadata": {
            "tags": []
          },
          "execution_count": 39
        },
        {
          "output_type": "display_data",
          "data": {
            "image/png": "[encoded data removed]",
            "text/plain": [
              "<Figure size 432x288 with 1 Axes>"
            ]
          },
          "metadata": {
            "tags": []
          }
        }
      ]
    },
    {
      "cell_type": "code",
      "metadata": {
        "id": "lneoLOUWgRhS",
        "colab_type": "code",
        "colab": {
          "base_uri": "https://localhost:8080/",
          "height": 1000
        },
        "outputId": "625c243e-fa25-4dc7-f698-34172f60720a"
      },
      "source": [
        "# Perform FOBI.\n",
        "norm_whitMat = LA.norm(whitMat, axis=0)\n",
        "norm = [norm_whitMat, norm_whitMat]\n",
        "\n",
        "cov2 = np.cov(np.multiply(norm, whitMat))\n",
        "\n",
        "d_n, Y = LA.eigh(cov2)\n",
        "\n",
        "source = np.dot(np.transpose(Y), whitMat)\n",
        "\n",
        "# Plot the separated sources.\n",
        "time = np.arange(0, N, 1)\n",
        "time = time / Sampling_rate\n",
        "time = time * 1000  # convert to milliseconds\n",
        "\n",
        "plt.figure()\n",
        "plt.plot(time, source[0], color='k')\n",
        "plt.ylabel('Amplitude')\n",
        "plt.xlabel('Time (ms)')\n",
        "plt.title(\"Generated signal 1\")\n",
        "\n",
        "plt.figure()\n",
        "plt.plot(time, source[1], color='k')\n",
        "plt.ylabel('Amplitude')\n",
        "plt.xlabel('Time (ms)')\n",
        "plt.title(\"Generated signal 2\")\n",
        "\n",
        "# Plot the actual sources for comparison.\n",
        "samplingRate, orig1 = wavfile.read('source1.wav')\n",
        "print(np.min(orig1))\n",
        "print(np.max(orig1))\n",
        "orig1 = (orig1-5.0)/(248.0 -5.0) # uint8 takes values from 0 to 255\n",
        "\n",
        "plt.figure()\n",
        "plt.plot(time, orig1, color='k')\n",
        "plt.ylabel('Amplitude')\n",
        "plt.xlabel('Time (ms)')\n",
        "plt.title(\"Original signal 1\")\n",
        "\n",
        "samplingRate, orig2 = wavfile.read('source2.wav')\n",
        "print(np.min(orig2))\n",
        "print(np.max(orig2))\n",
        "orig2 = (orig2-34.0)/(249.0 -34.0) # uint8 takes values from 0 to 255\n",
        "\n",
        "plt.figure()\n",
        "plt.plot(time, orig2, color='k')\n",
        "plt.ylabel('Amplitude')\n",
        "plt.xlabel('Time (ms)')\n",
        "plt.title(\"Original signal 2\")"
      ],
      "execution_count": 40,
      "outputs": [
        {
          "output_type": "stream",
          "text": [
            "5\n",
            "248\n",
            "34\n",
            "249\n"
          ],
          "name": "stdout"
        },
        {
          "output_type": "stream",
          "text": [
            "/usr/local/lib/python3.6/dist-packages/numpy/core/_asarray.py:85: ComplexWarning: Casting complex values to real discards the imaginary part\n",
            "  return array(a, dtype, copy=False, order=order)\n",
            "/usr/local/lib/python3.6/dist-packages/numpy/core/_asarray.py:85: ComplexWarning: Casting complex values to real discards the imaginary part\n",
            "  return array(a, dtype, copy=False, order=order)\n"
          ],
          "name": "stderr"
        },
        {
          "output_type": "execute_result",
          "data": {
            "text/plain": [
              "Text(0.5, 1.0, 'Original signal 2')"
            ]
          },
          "metadata": {
            "tags": []
          },
          "execution_count": 40
        },
        {
          "output_type": "display_data",
          "data": {
            "image/png": "[encoded data removed]",
            "text/plain": [
              "<Figure size 432x288 with 1 Axes>"
            ]
          },
          "metadata": {
            "tags": []
          }
        },
        {
          "output_type": "display_data",
          "data": {
            "image/png": "[encoded data removed]",
            "text/plain": [
              "<Figure size 432x288 with 1 Axes>"
            ]
          },
          "metadata": {
            "tags": []
          }
        },
        {
          "output_type": "display_data",
          "data": {
            "image/png": "[encoded data removed]",
            "text/plain": [
              "<Figure size 432x288 with 1 Axes>"
            ]
          },
          "metadata": {
            "tags": []
          }
        },
        {
          "output_type": "display_data",
          "data": {
            "image/png": "[encoded data removed]",
            "text/plain": [
              "<Figure size 432x288 with 1 Axes>"
            ]
          },
          "metadata": {
            "tags": []
          }
        }
      ]
    },
    {
      "cell_type": "code",
      "metadata": {
        "id": "okgB5KZyj5oL",
        "colab_type": "code",
        "colab": {}
      },
      "source": [
        ""
      ],
      "execution_count": 0,
      "outputs": []
    }
  ]
}